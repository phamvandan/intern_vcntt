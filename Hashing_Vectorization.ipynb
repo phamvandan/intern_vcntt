{
 "cells": [
  {
   "cell_type": "code",
   "execution_count": 1,
   "metadata": {},
   "outputs": [],
   "source": [
    "# Hashing Vectorization\n",
    "from sklearn.feature_extraction.text import HashingVectorizer"
   ]
  },
  {
   "cell_type": "code",
   "execution_count": 2,
   "metadata": {},
   "outputs": [],
   "source": [
    "def hash_vec(text, number_of_feature):\n",
    "    vectorizer = HashingVectorizer(n_features=number_of_feature)\n",
    "    doc_term_matrix= vectorizer.transform(text)\n",
    "    final=doc_term_matrix.toarray()\n",
    "    return final"
   ]
  },
  {
   "cell_type": "code",
   "execution_count": 6,
   "metadata": {},
   "outputs": [
    {
     "name": "stdout",
     "output_type": "stream",
     "text": [
      "(2, 10)\n",
      "[[ 0.         -0.30151134  0.30151134  0.          0.          0.\n",
      "  -0.60302269  0.30151134 -0.60302269  0.        ]\n",
      " [ 0.         -0.33333333  0.33333333 -0.33333333  0.          0.\n",
      "   0.          0.33333333 -0.66666667 -0.33333333]]\n"
     ]
    }
   ],
   "source": [
    "result = hash_vec([\"The car is driven on the road\", \"The truck is driven on the highway\"], number_of_feature=10)\n",
    "print(result.shape)\n",
    "print(result)"
   ]
  },
  {
   "cell_type": "code",
   "execution_count": null,
   "metadata": {},
   "outputs": [],
   "source": []
  }
 ],
 "metadata": {
  "kernelspec": {
   "display_name": "Python 3",
   "language": "python",
   "name": "python3"
  },
  "language_info": {
   "codemirror_mode": {
    "name": "ipython",
    "version": 3
   },
   "file_extension": ".py",
   "mimetype": "text/x-python",
   "name": "python",
   "nbconvert_exporter": "python",
   "pygments_lexer": "ipython3",
   "version": "3.6.9"
  }
 },
 "nbformat": 4,
 "nbformat_minor": 4
}
