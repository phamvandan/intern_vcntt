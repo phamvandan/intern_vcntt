{
 "cells": [
  {
   "cell_type": "code",
   "execution_count": 2,
   "metadata": {},
   "outputs": [],
   "source": [
    "from sklearn.feature_extraction.text import CountVectorizer\n",
    "def count_vec(text):\n",
    "    vectorizer = CountVectorizer()\n",
    "    vectorizer.fit(text)\n",
    "    doc_term_matrix= vectorizer.transform(text)\n",
    "    print(vectorizer.get_feature_names())\n",
    "    final=doc_term_matrix.toarray()\n",
    "    return final"
   ]
  },
  {
   "cell_type": "code",
   "execution_count": 3,
   "metadata": {},
   "outputs": [
    {
     "name": "stdout",
     "output_type": "stream",
     "text": [
      "['brown', 'dog', 'fox', 'jumped', 'lazy', 'more', 'no', 'over', 'quick', 'see', 'the']\n",
      "[[1 1 1 1 1 0 0 1 1 0 3]\n",
      " [0 1 0 0 0 1 1 0 0 1 1]]\n"
     ]
    }
   ],
   "source": [
    "result = count_vec([\"The quick brown fox jumped over the lazy dog the.\", \"no more see the dog.\"])\n",
    "print(result)"
   ]
  },
  {
   "cell_type": "code",
   "execution_count": null,
   "metadata": {},
   "outputs": [],
   "source": []
  }
 ],
 "metadata": {
  "kernelspec": {
   "display_name": "Python 3",
   "language": "python",
   "name": "python3"
  },
  "language_info": {
   "codemirror_mode": {
    "name": "ipython",
    "version": 3
   },
   "file_extension": ".py",
   "mimetype": "text/x-python",
   "name": "python",
   "nbconvert_exporter": "python",
   "pygments_lexer": "ipython3",
   "version": "3.6.9"
  }
 },
 "nbformat": 4,
 "nbformat_minor": 4
}
