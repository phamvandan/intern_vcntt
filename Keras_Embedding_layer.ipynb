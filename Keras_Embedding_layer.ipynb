{
 "cells": [
  {
   "cell_type": "code",
   "execution_count": 1,
   "metadata": {},
   "outputs": [
    {
     "name": "stderr",
     "output_type": "stream",
     "text": [
      "Using TensorFlow backend.\n",
      "/home/dan/.local/lib/python3.6/site-packages/tensorflow/python/framework/dtypes.py:523: FutureWarning: Passing (type, 1) or '1type' as a synonym of type is deprecated; in a future version of numpy, it will be understood as (type, (1,)) / '(1,)type'.\n",
      "  _np_qint8 = np.dtype([(\"qint8\", np.int8, 1)])\n",
      "/home/dan/.local/lib/python3.6/site-packages/tensorflow/python/framework/dtypes.py:524: FutureWarning: Passing (type, 1) or '1type' as a synonym of type is deprecated; in a future version of numpy, it will be understood as (type, (1,)) / '(1,)type'.\n",
      "  _np_quint8 = np.dtype([(\"quint8\", np.uint8, 1)])\n",
      "/home/dan/.local/lib/python3.6/site-packages/tensorflow/python/framework/dtypes.py:525: FutureWarning: Passing (type, 1) or '1type' as a synonym of type is deprecated; in a future version of numpy, it will be understood as (type, (1,)) / '(1,)type'.\n",
      "  _np_qint16 = np.dtype([(\"qint16\", np.int16, 1)])\n",
      "/home/dan/.local/lib/python3.6/site-packages/tensorflow/python/framework/dtypes.py:526: FutureWarning: Passing (type, 1) or '1type' as a synonym of type is deprecated; in a future version of numpy, it will be understood as (type, (1,)) / '(1,)type'.\n",
      "  _np_quint16 = np.dtype([(\"quint16\", np.uint16, 1)])\n",
      "/home/dan/.local/lib/python3.6/site-packages/tensorflow/python/framework/dtypes.py:527: FutureWarning: Passing (type, 1) or '1type' as a synonym of type is deprecated; in a future version of numpy, it will be understood as (type, (1,)) / '(1,)type'.\n",
      "  _np_qint32 = np.dtype([(\"qint32\", np.int32, 1)])\n",
      "/home/dan/.local/lib/python3.6/site-packages/tensorflow/python/framework/dtypes.py:532: FutureWarning: Passing (type, 1) or '1type' as a synonym of type is deprecated; in a future version of numpy, it will be understood as (type, (1,)) / '(1,)type'.\n",
      "  np_resource = np.dtype([(\"resource\", np.ubyte, 1)])\n"
     ]
    },
    {
     "name": "stdout",
     "output_type": "stream",
     "text": [
      "[[[ 0.01241487  0.0089794 ]\n",
      "  [-0.00637356  0.02446295]\n",
      "  [-0.00836577 -0.00343627]\n",
      "  [-0.01958847  0.03874551]\n",
      "  [ 0.03841324 -0.02382891]]\n",
      "\n",
      " [[ 0.00463225  0.01615825]\n",
      "  [-0.00637356  0.02446295]\n",
      "  [-0.00836577 -0.00343627]\n",
      "  [-0.01958847  0.03874551]\n",
      "  [-0.00714091  0.02749104]]]\n"
     ]
    }
   ],
   "source": [
    "import numpy as np\n",
    "from keras.models import Sequential\n",
    "from keras.layers import Embedding\n",
    "\n",
    "X = np.array([\n",
    "    [0, 1, 2, 3, 4],\n",
    "    [5, 1, 2, 3, 6]\n",
    "])\n",
    "\n",
    "model = Sequential()\n",
    "model.add(Embedding(input_dim=7,\n",
    "                    output_dim=2,\n",
    "                    input_length=5))\n",
    "\n",
    "model.compile(loss='mse', optimizer='sgd')\n",
    "print(model.predict(X, batch_size=32))  "
   ]
  },
  {
   "cell_type": "markdown",
   "metadata": {},
   "source": [
    "**Thực chất lớp Embedding = chuyển đầu vào thành one hot (1xn) và nhân với ma trận trọng số  có kích thước (nxm) với hàm kích hoạt là linear**\n",
    "\n",
    "*Trong đó : n là số tokens và m là số chiều embedding của word đó mà mình mong muốn*\n",
    "\n",
    "*Nó giống với việc chúng ta encode một vector thành vector có chiều nhỏ hơn chỉ sử dụng phép nhân ma trận thuần túy và cập nhật trọng số thông qua SGD và hàm loss mà mình định nghĩa*"
   ]
  },
  {
   "cell_type": "code",
   "execution_count": null,
   "metadata": {},
   "outputs": [],
   "source": []
  }
 ],
 "metadata": {
  "kernelspec": {
   "display_name": "Python 3",
   "language": "python",
   "name": "python3"
  },
  "language_info": {
   "codemirror_mode": {
    "name": "ipython",
    "version": 3
   },
   "file_extension": ".py",
   "mimetype": "text/x-python",
   "name": "python",
   "nbconvert_exporter": "python",
   "pygments_lexer": "ipython3",
   "version": "3.6.9"
  }
 },
 "nbformat": 4,
 "nbformat_minor": 4
}
